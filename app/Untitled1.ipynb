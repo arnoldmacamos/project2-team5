{
 "cells": [
  {
   "cell_type": "code",
   "execution_count": 15,
   "metadata": {},
   "outputs": [],
   "source": [
    "import pandas as pd\n",
    "from sqlalchemy import create_engine"
   ]
  },
  {
   "cell_type": "code",
   "execution_count": 16,
   "metadata": {},
   "outputs": [],
   "source": [
    "    constituency_file = \"datafiles/constituency_ids.csv\";\n",
    "    df_constituency = pd.read_csv(constituency_file)"
   ]
  },
  {
   "cell_type": "code",
   "execution_count": 17,
   "metadata": {},
   "outputs": [
    {
     "data": {
      "text/html": [
       "<div>\n",
       "<style scoped>\n",
       "    .dataframe tbody tr th:only-of-type {\n",
       "        vertical-align: middle;\n",
       "    }\n",
       "\n",
       "    .dataframe tbody tr th {\n",
       "        vertical-align: top;\n",
       "    }\n",
       "\n",
       "    .dataframe thead th {\n",
       "        text-align: right;\n",
       "    }\n",
       "</style>\n",
       "<table border=\"1\" class=\"dataframe\">\n",
       "  <thead>\n",
       "    <tr style=\"text-align: right;\">\n",
       "      <th></th>\n",
       "      <th>CONST ID</th>\n",
       "      <th>ONS ID</th>\n",
       "      <th>Constituency</th>\n",
       "    </tr>\n",
       "  </thead>\n",
       "  <tbody>\n",
       "    <tr>\n",
       "      <th>0</th>\n",
       "      <td>1</td>\n",
       "      <td>E14000582</td>\n",
       "      <td>Boston and Skegness</td>\n",
       "    </tr>\n",
       "    <tr>\n",
       "      <th>1</th>\n",
       "      <td>2</td>\n",
       "      <td>E14001011</td>\n",
       "      <td>Walsall North</td>\n",
       "    </tr>\n",
       "    <tr>\n",
       "      <th>2</th>\n",
       "      <td>3</td>\n",
       "      <td>E14000642</td>\n",
       "      <td>Clacton</td>\n",
       "    </tr>\n",
       "    <tr>\n",
       "      <th>3</th>\n",
       "      <td>4</td>\n",
       "      <td>E14000933</td>\n",
       "      <td>South Basildon and East Thurrock</td>\n",
       "    </tr>\n",
       "    <tr>\n",
       "      <th>4</th>\n",
       "      <td>5</td>\n",
       "      <td>E14000771</td>\n",
       "      <td>Kingston upon Hull East</td>\n",
       "    </tr>\n",
       "  </tbody>\n",
       "</table>\n",
       "</div>"
      ],
      "text/plain": [
       "   CONST ID     ONS ID                      Constituency\n",
       "0         1  E14000582               Boston and Skegness\n",
       "1         2  E14001011                     Walsall North\n",
       "2         3  E14000642                           Clacton\n",
       "3         4  E14000933  South Basildon and East Thurrock\n",
       "4         5  E14000771           Kingston upon Hull East"
      ]
     },
     "execution_count": 17,
     "metadata": {},
     "output_type": "execute_result"
    }
   ],
   "source": [
    "df_constituency.head()"
   ]
  },
  {
   "cell_type": "code",
   "execution_count": 27,
   "metadata": {},
   "outputs": [
    {
     "data": {
      "text/html": [
       "<div>\n",
       "<style scoped>\n",
       "    .dataframe tbody tr th:only-of-type {\n",
       "        vertical-align: middle;\n",
       "    }\n",
       "\n",
       "    .dataframe tbody tr th {\n",
       "        vertical-align: top;\n",
       "    }\n",
       "\n",
       "    .dataframe thead th {\n",
       "        text-align: right;\n",
       "    }\n",
       "</style>\n",
       "<table border=\"1\" class=\"dataframe\">\n",
       "  <thead>\n",
       "    <tr style=\"text-align: right;\">\n",
       "      <th></th>\n",
       "      <th>ons_code</th>\n",
       "      <th>constituency_name</th>\n",
       "    </tr>\n",
       "    <tr>\n",
       "      <th>const_id</th>\n",
       "      <th></th>\n",
       "      <th></th>\n",
       "    </tr>\n",
       "  </thead>\n",
       "  <tbody>\n",
       "    <tr>\n",
       "      <th>1</th>\n",
       "      <td>E14000582</td>\n",
       "      <td>Boston and Skegness</td>\n",
       "    </tr>\n",
       "    <tr>\n",
       "      <th>2</th>\n",
       "      <td>E14001011</td>\n",
       "      <td>Walsall North</td>\n",
       "    </tr>\n",
       "    <tr>\n",
       "      <th>3</th>\n",
       "      <td>E14000642</td>\n",
       "      <td>Clacton</td>\n",
       "    </tr>\n",
       "    <tr>\n",
       "      <th>4</th>\n",
       "      <td>E14000933</td>\n",
       "      <td>South Basildon and East Thurrock</td>\n",
       "    </tr>\n",
       "    <tr>\n",
       "      <th>5</th>\n",
       "      <td>E14000771</td>\n",
       "      <td>Kingston upon Hull East</td>\n",
       "    </tr>\n",
       "  </tbody>\n",
       "</table>\n",
       "</div>"
      ],
      "text/plain": [
       "           ons_code                 constituency_name\n",
       "const_id                                             \n",
       "1         E14000582               Boston and Skegness\n",
       "2         E14001011                     Walsall North\n",
       "3         E14000642                           Clacton\n",
       "4         E14000933  South Basildon and East Thurrock\n",
       "5         E14000771           Kingston upon Hull East"
      ]
     },
     "execution_count": 27,
     "metadata": {},
     "output_type": "execute_result"
    }
   ],
   "source": [
    "# Create a filtered dataframe from specific columns\n",
    "constituency_cols = [\"CONST ID\",\"ONS ID\", \"Constituency\"]\n",
    "df_transf_constituency= df_constituency[constituency_cols].copy()\n",
    "\n",
    "# Rename the column headers\n",
    "df_transf_constituency = df_transf_constituency.rename(columns={\"CONST ID\": \"const_id\",\n",
    "                                                        \"ONS ID\": \"ons_code\",\n",
    "                                                          \"Constituency\": \"constituency_name\"})\n",
    "\n",
    "# Clean the data by dropping duplicates and setting the index\n",
    "df_transf_constituency.drop_duplicates(\"const_id\", inplace=True)\n",
    "df_transf_constituency.set_index(\"const_id\", inplace=True)\n",
    "\n",
    "df_transf_constituency.head()"
   ]
  },
  {
   "cell_type": "code",
   "execution_count": 28,
   "metadata": {},
   "outputs": [],
   "source": [
    "connection_string = \"postgres:root123@localhost:5432/ukelection_db\"\n",
    "engine = create_engine(f'postgresql://{connection_string}')"
   ]
  },
  {
   "cell_type": "code",
   "execution_count": 24,
   "metadata": {},
   "outputs": [
    {
     "data": {
      "text/plain": [
       "['constituencies', 'election_results', 'parties']"
      ]
     },
     "execution_count": 24,
     "metadata": {},
     "output_type": "execute_result"
    }
   ],
   "source": [
    "# Confirm tables\n",
    "engine.table_names()"
   ]
  },
  {
   "cell_type": "code",
   "execution_count": 29,
   "metadata": {},
   "outputs": [],
   "source": [
    "df_transf_constituency.to_sql(name='constituencies', con=engine, if_exists='append', index=True)"
   ]
  },
  {
   "cell_type": "code",
   "execution_count": 30,
   "metadata": {},
   "outputs": [],
   "source": [
    "connection_string = \"postgres:root123@localhost:5432/ukelection_db\"\n",
    "engine = create_engine(f'postgresql://{connection_string}')\n",
    "conn = engine.connect()\n",
    "conn.execute(\"delete from constituencies\")\n",
    "conn.execute(\"delete from parties\")\n",
    "\n",
    "conn.close()"
   ]
  }
 ],
 "metadata": {
  "kernelspec": {
   "display_name": "Python 3",
   "language": "python",
   "name": "python3"
  },
  "language_info": {
   "codemirror_mode": {
    "name": "ipython",
    "version": 3
   },
   "file_extension": ".py",
   "mimetype": "text/x-python",
   "name": "python",
   "nbconvert_exporter": "python",
   "pygments_lexer": "ipython3",
   "version": "3.7.3"
  }
 },
 "nbformat": 4,
 "nbformat_minor": 2
}
